{
  "nbformat": 4,
  "nbformat_minor": 0,
  "metadata": {
    "colab": {
      "provenance": []
    },
    "kernelspec": {
      "display_name": "Python 3",
      "language": "python",
      "name": "python3"
    },
    "widgets": {
      "application/vnd.jupyter.widget-state+json": {
        "f954530e0bab405db5e50802f5f7db69": {
          "model_module": "@jupyter-widgets/controls",
          "model_name": "HBoxModel",
          "state": {
            "_view_name": "HBoxView",
            "_dom_classes": [],
            "_model_name": "HBoxModel",
            "_view_module": "@jupyter-widgets/controls",
            "_model_module_version": "1.5.0",
            "_view_count": null,
            "_view_module_version": "1.5.0",
            "box_style": "",
            "layout": "IPY_MODEL_564c4d8949f14ad6912571e7a24b965c",
            "_model_module": "@jupyter-widgets/controls",
            "children": [
              "IPY_MODEL_5152aca58d6f4ab786c4a79c01a3ab57",
              "IPY_MODEL_aeef5860ba8e413292b69a97a85e738c"
            ]
          },
          "model_module_version": "1.5.0"
        },
        "564c4d8949f14ad6912571e7a24b965c": {
          "model_module": "@jupyter-widgets/base",
          "model_name": "LayoutModel",
          "state": {
            "_view_name": "LayoutView",
            "grid_template_rows": null,
            "right": null,
            "justify_content": null,
            "_view_module": "@jupyter-widgets/base",
            "overflow": null,
            "_model_module_version": "1.2.0",
            "_view_count": null,
            "flex_flow": null,
            "width": null,
            "min_width": null,
            "border": null,
            "align_items": null,
            "bottom": null,
            "_model_module": "@jupyter-widgets/base",
            "top": null,
            "grid_column": null,
            "overflow_y": null,
            "overflow_x": null,
            "grid_auto_flow": null,
            "grid_area": null,
            "grid_template_columns": null,
            "flex": null,
            "_model_name": "LayoutModel",
            "justify_items": null,
            "grid_row": null,
            "max_height": null,
            "align_content": null,
            "visibility": null,
            "align_self": null,
            "height": null,
            "min_height": null,
            "padding": null,
            "grid_auto_rows": null,
            "grid_gap": null,
            "max_width": null,
            "order": null,
            "_view_module_version": "1.2.0",
            "grid_template_areas": null,
            "object_position": null,
            "object_fit": null,
            "grid_auto_columns": null,
            "margin": null,
            "display": null,
            "left": null
          },
          "model_module_version": "1.2.0"
        },
        "5152aca58d6f4ab786c4a79c01a3ab57": {
          "model_module": "@jupyter-widgets/controls",
          "model_name": "FloatProgressModel",
          "state": {
            "_view_name": "ProgressView",
            "style": "IPY_MODEL_0536d6f9ca8649678ab8ec3b17e365e7",
            "_dom_classes": [],
            "description": "100%",
            "_model_name": "FloatProgressModel",
            "bar_style": "success",
            "max": 50,
            "_view_module": "@jupyter-widgets/controls",
            "_model_module_version": "1.5.0",
            "value": 50,
            "_view_count": null,
            "_view_module_version": "1.5.0",
            "orientation": "horizontal",
            "min": 0,
            "description_tooltip": null,
            "_model_module": "@jupyter-widgets/controls",
            "layout": "IPY_MODEL_54e0913651f04401909d31346e409b4e"
          },
          "model_module_version": "1.5.0"
        },
        "aeef5860ba8e413292b69a97a85e738c": {
          "model_module": "@jupyter-widgets/controls",
          "model_name": "HTMLModel",
          "state": {
            "_view_name": "HTMLView",
            "style": "IPY_MODEL_0b1efd49dc94443aa3e713ccfb3eeb05",
            "_dom_classes": [],
            "description": "",
            "_model_name": "HTMLModel",
            "placeholder": "​",
            "_view_module": "@jupyter-widgets/controls",
            "_model_module_version": "1.5.0",
            "value": " 50/50 [02:51&lt;00:00,  3.43s/it]",
            "_view_count": null,
            "_view_module_version": "1.5.0",
            "description_tooltip": null,
            "_model_module": "@jupyter-widgets/controls",
            "layout": "IPY_MODEL_bfab8425bd9e4f8d98cc06cbd7343c0c"
          },
          "model_module_version": "1.5.0"
        },
        "0536d6f9ca8649678ab8ec3b17e365e7": {
          "model_module": "@jupyter-widgets/controls",
          "model_name": "ProgressStyleModel",
          "state": {
            "_view_name": "StyleView",
            "_model_name": "ProgressStyleModel",
            "description_width": "initial",
            "_view_module": "@jupyter-widgets/base",
            "_model_module_version": "1.5.0",
            "_view_count": null,
            "_view_module_version": "1.2.0",
            "bar_color": null,
            "_model_module": "@jupyter-widgets/controls"
          },
          "model_module_version": "1.5.0"
        },
        "54e0913651f04401909d31346e409b4e": {
          "model_module": "@jupyter-widgets/base",
          "model_name": "LayoutModel",
          "state": {
            "_view_name": "LayoutView",
            "grid_template_rows": null,
            "right": null,
            "justify_content": null,
            "_view_module": "@jupyter-widgets/base",
            "overflow": null,
            "_model_module_version": "1.2.0",
            "_view_count": null,
            "flex_flow": null,
            "width": null,
            "min_width": null,
            "border": null,
            "align_items": null,
            "bottom": null,
            "_model_module": "@jupyter-widgets/base",
            "top": null,
            "grid_column": null,
            "overflow_y": null,
            "overflow_x": null,
            "grid_auto_flow": null,
            "grid_area": null,
            "grid_template_columns": null,
            "flex": null,
            "_model_name": "LayoutModel",
            "justify_items": null,
            "grid_row": null,
            "max_height": null,
            "align_content": null,
            "visibility": null,
            "align_self": null,
            "height": null,
            "min_height": null,
            "padding": null,
            "grid_auto_rows": null,
            "grid_gap": null,
            "max_width": null,
            "order": null,
            "_view_module_version": "1.2.0",
            "grid_template_areas": null,
            "object_position": null,
            "object_fit": null,
            "grid_auto_columns": null,
            "margin": null,
            "display": null,
            "left": null
          },
          "model_module_version": "1.2.0"
        },
        "0b1efd49dc94443aa3e713ccfb3eeb05": {
          "model_module": "@jupyter-widgets/controls",
          "model_name": "DescriptionStyleModel",
          "state": {
            "_view_name": "StyleView",
            "_model_name": "DescriptionStyleModel",
            "description_width": "",
            "_view_module": "@jupyter-widgets/base",
            "_model_module_version": "1.5.0",
            "_view_count": null,
            "_view_module_version": "1.2.0",
            "_model_module": "@jupyter-widgets/controls"
          },
          "model_module_version": "1.5.0"
        },
        "bfab8425bd9e4f8d98cc06cbd7343c0c": {
          "model_module": "@jupyter-widgets/base",
          "model_name": "LayoutModel",
          "state": {
            "_view_name": "LayoutView",
            "grid_template_rows": null,
            "right": null,
            "justify_content": null,
            "_view_module": "@jupyter-widgets/base",
            "overflow": null,
            "_model_module_version": "1.2.0",
            "_view_count": null,
            "flex_flow": null,
            "width": null,
            "min_width": null,
            "border": null,
            "align_items": null,
            "bottom": null,
            "_model_module": "@jupyter-widgets/base",
            "top": null,
            "grid_column": null,
            "overflow_y": null,
            "overflow_x": null,
            "grid_auto_flow": null,
            "grid_area": null,
            "grid_template_columns": null,
            "flex": null,
            "_model_name": "LayoutModel",
            "justify_items": null,
            "grid_row": null,
            "max_height": null,
            "align_content": null,
            "visibility": null,
            "align_self": null,
            "height": null,
            "min_height": null,
            "padding": null,
            "grid_auto_rows": null,
            "grid_gap": null,
            "max_width": null,
            "order": null,
            "_view_module_version": "1.2.0",
            "grid_template_areas": null,
            "object_position": null,
            "object_fit": null,
            "grid_auto_columns": null,
            "margin": null,
            "display": null,
            "left": null
          },
          "model_module_version": "1.2.0"
        }
      }
    },
    "accelerator": "GPU"
  },
  "cells": [
    {
      "cell_type": "code",
      "metadata": {
        "id": "zhAhxVVGJyEP"
      },
      "source": [
        "import numpy as np\n",
        "import os\n",
        "from skimage.transform import resize\n",
        "from sklearn.model_selection import train_test_split\n",
        "from tqdm.notebook import tqdm\n",
        "import skimage.io\n",
        "import pandas as pd\n",
        "\n",
        "\n",
        "import torch\n",
        "import torch.nn as nn\n",
        "import torch.nn.functional as F"
      ],
      "execution_count": null,
      "outputs": []
    },
    {
      "cell_type": "code",
      "metadata": {
        "id": "nclDyb9ACw5O"
      },
      "source": [
        "element_list = ['H', 'He', 'Li', 'Be', 'B', 'C', 'N', 'O', 'F', 'Ne', 'Na', 'Mg', 'Al', 'Si', 'P', 'S', 'Cl', 'Ar', 'K', 'Ca', 'Sc', 'Ti', 'V', 'Cr','Mn', 'Fe', 'Co', 'Ni', 'Cu', 'Zn', 'Ga', 'Ge', 'As', 'Se', 'Br', 'Kr', 'Rb', 'Sr', 'Y', 'Zr', 'Nb', 'Mo', 'Tc', 'Ru', 'Rh', 'Pd', 'Ag', 'Cd', 'In', 'Sn', 'Sb', 'Te', 'I', 'Xe', 'Cs', 'Ba', 'La', 'Ce', 'Pr', 'Nd', 'Pm', 'Sm', 'Eu', 'Gd', 'Tb', 'Dy', 'Ho', 'Er', 'Tm', 'Yb', 'Lu', 'Hf', 'Ta', 'W', 'Re', 'Os', 'Ir', 'Pt', 'Au', 'Hg', 'Tl', 'Pb', 'Bi', 'Ac', 'Th', 'Pa', 'U', 'Np', 'Pu']\n",
        "df_train = pd.read_csv('../Data/oqmd_train.csv')\n",
        "df_test = pd.read_csv('../Data/oqmd_test.csv')"
      ],
      "execution_count": null,
      "outputs": []
    },
    {
      "cell_type": "code",
      "source": [
        "def counts2vector(pairs):\n",
        "    vec = [0]*len(element_list)\n",
        "    for pair in pairs:\n",
        "        vec[element_list.index(pair[0])]+=int(pair[1])\n",
        "    vec = np.array(vec)\n",
        "    return vec\n",
        "\n",
        "def onehot(enc):\n",
        "    rep = np.zeros((len(element_list),11))\n",
        "    rep[:,0] = 1\n",
        "    for i,val in enumerate(enc):\n",
        "        if val!=0:\n",
        "            rep[i][0]=0\n",
        "            rep[i][val]=1\n",
        "    return rep.flatten()\n",
        "\n",
        "def encode(df):\n",
        "    formulae = df[['comp']]\n",
        "    counts = pd.Series(formulae.values.flatten()).str.findall(r\"([a-z]+)([0-9]+)\", re.I)\n",
        "    df['encoding'] = counts.apply(counts2vector)\n",
        "    df['onehot'] = df['encoding'].apply(onehot)\n",
        "encode(df_train)\n",
        "encode(df_test)"
      ],
      "metadata": {
        "id": "I4Crjy0ohwsp"
      },
      "execution_count": null,
      "outputs": []
    },
    {
      "cell_type": "code",
      "source": [
        "X_train = df_train.onehot.values\n",
        "X_train = np.stack(X_train,axis=0)\n",
        "X_test = df_test.onehot.values\n",
        "X_test = np.stack(X_test,axis=0)\n",
        "y_train = df_train[['delta_e','volume_pa','energy_pa']].values\n",
        "y_test = df_test[['delta_e','volume_pa','energy_pa']].values"
      ],
      "metadata": {
        "id": "sqP2VcDHhydq"
      },
      "execution_count": null,
      "outputs": []
    },
    {
      "cell_type": "code",
      "source": [],
      "metadata": {
        "id": "0WtItvmHhyjK"
      },
      "execution_count": null,
      "outputs": []
    },
    {
      "cell_type": "code",
      "metadata": {
        "id": "iWhj4_5GwwXc"
      },
      "source": [
        "features = 32\n",
        "# define a simple linear VAE\n",
        "class LinearVAE(nn.Module):\n",
        "    def __init__(self):\n",
        "        super(LinearVAE, self).__init__()\n",
        "\n",
        "        self.flatten = nn.Flatten()\n",
        " \n",
        "        # encoder\n",
        "        self.encoder = nn.Sequential(\n",
        "            nn.Linear(in_features=979, out_features=512),\n",
        "            nn.ReLU(),\n",
        "            nn.Linear(in_features=512, out_features=features*2)\n",
        "\n",
        "        )\n",
        " \n",
        "        # decoder \n",
        "        self.decoder = nn.Sequential(\n",
        "            nn.Linear(in_features=features, out_features=512),\n",
        "            nn.ReLU(),\n",
        "            nn.Linear(in_features=512, out_features=979)\n",
        "        )\n",
        "\n",
        "    def reparameterize(self, mu, log_var):\n",
        "\n",
        "        std = torch.exp(0.5 * log_var) # standard deviation\n",
        "        eps = torch.randn_like(std) # `randn_like` as we need the same size\n",
        "        sample = mu + (eps * std) # sampling as if coming from the input space\n",
        "        return sample\n",
        " \n",
        "    def forward(self, x):\n",
        "        # encoding\n",
        "        x = self.flatten(x).float()\n",
        "        x = self.encoder(x).view(-1, 2, features)\n",
        "        # get `mu` and `log_var`\n",
        "        mu = x[:, 0, :] # the first feature values as mean\n",
        "        log_var = x[:, 1, :]  \n",
        "        z = self.reparameterize(mu, log_var)\n",
        " \n",
        "        # decoding\n",
        "        x = self.decoder(z)\n",
        "        reconstruction = torch.sigmoid(x)\n",
        "        return reconstruction, mu, log_var\n",
        "\n",
        "    def sample(self, z):\n",
        "        generated = self.decoder(z)\n",
        "        generated = torch.sigmoid(generated)\n",
        "        generated = generated.view(-1, 11, 89)\n",
        "        return generated\n",
        "\n",
        "    def get_latent_vector(self, x):\n",
        "        x = self.flatten(x).float()\n",
        "        x = self.encoder(x).view(-1, 2, features)\n",
        "        # get `mu` and `log_var`\n",
        "        mu = x[:, 0, :] # the first feature values as mean\n",
        "        log_var = x[:, 1, :] # the other feature values as variance\n",
        "        # get the latent vector through reparameterization\n",
        "        z = self.reparameterize(mu, log_var)\n",
        "        return z"
      ],
      "execution_count": null,
      "outputs": []
    },
    {
      "cell_type": "code",
      "metadata": {
        "id": "ac5ey7uIYY77"
      },
      "source": [
        "def KL_divergence(mu, logsigma): \n",
        "    loss = -0.5 * torch.sum(1 + logsigma - mu.pow(2) - logsigma.exp())\n",
        "    return loss\n",
        "\n",
        "def log_likelihood(x, reconstruction):\n",
        " \n",
        "    loss = nn.BCELoss(reduction='sum')\n",
        "    return loss(reconstruction, x)\n",
        "\n",
        "def loss_vae(x, mu, logsigma, reconstruction):\n",
        "    return KL_divergence(mu, logsigma) + log_likelihood(x, reconstruction)"
      ],
      "execution_count": null,
      "outputs": []
    },
    {
      "cell_type": "code",
      "metadata": {
        "id": "dtCjfqXdYY79"
      },
      "source": [
        "device = 'cuda:0' if torch.cuda.is_available() else 'cpu'\n",
        "\n",
        "criterion = loss_vae\n",
        "\n",
        "autoencoder = LinearVAE().to(device)\n",
        "\n",
        "optimizer = torch.optim.Adam(autoencoder.parameters())"
      ],
      "execution_count": null,
      "outputs": []
    },
    {
      "cell_type": "code",
      "metadata": {
        "id": "kq9PkQn-XzVO"
      },
      "source": [
        "X_train , X_val , y_train, y_val = train_test_split(X_train, Y_train,\n",
        "                                                                    train_size=0.9, shuffle=False)\n",
        "train_loader = torch.utils.data.DataLoader(X_train , batch_size=32)\n",
        "val_loader = torch.utils.data.DataLoader(X_val , batch_size=32)"
      ],
      "execution_count": null,
      "outputs": []
    },
    {
      "cell_type": "code",
      "metadata": {
        "colab": {
          "base_uri": "https://localhost:8080/",
          "height": 66,
          "referenced_widgets": [
            "f954530e0bab405db5e50802f5f7db69",
            "564c4d8949f14ad6912571e7a24b965c",
            "5152aca58d6f4ab786c4a79c01a3ab57",
            "aeef5860ba8e413292b69a97a85e738c",
            "0536d6f9ca8649678ab8ec3b17e365e7",
            "54e0913651f04401909d31346e409b4e",
            "0b1efd49dc94443aa3e713ccfb3eeb05",
            "bfab8425bd9e4f8d98cc06cbd7343c0c"
          ]
        },
        "id": "pqtmSI3QXWZl",
        "outputId": "13b7d969-21c2-4bbe-8996-dd688c445fc0"
      },
      "source": [
        "n_epochs = 50\n",
        "train_losses = []\n",
        "val_losses = []\n",
        "\n",
        "for epoch in tqdm(range(n_epochs)):\n",
        "    autoencoder.train()\n",
        "    train_losses_per_epoch = []\n",
        "    for batch in train_loader:\n",
        "        optimizer.zero_grad()\n",
        "        reconstruction, mu, logsigma = autoencoder(batch.to(device))\n",
        "        reconstruction = reconstruction.view(-1, 11, 89)\n",
        "        loss = criterion(batch.to(device).float(), mu, logsigma, reconstruction)\n",
        "        loss.backward()\n",
        "        optimizer.step()\n",
        "        train_losses_per_epoch.append(loss.item())\n",
        "\n",
        "    train_losses.append(np.mean(train_losses_per_epoch))\n",
        "\n",
        "    autoencoder.eval()\n",
        "    val_losses_per_epoch = []\n",
        "    with torch.no_grad():\n",
        "        for batch in val_loader:\n",
        "          reconstruction, mu, logsigma = autoencoder(batch.to(device))\n",
        "          reconstruction = reconstruction.view(-1, 11, 89)\n",
        "          loss = criterion(batch.to(device).float(), mu, logsigma, reconstruction)\n",
        "          val_losses_per_epoch.append(loss.item())\n",
        "\n",
        "    val_losses.append(np.mean(val_losses_per_epoch))"
      ],
      "execution_count": null,
      "outputs": [
        {
          "output_type": "display_data",
          "data": {
            "application/vnd.jupyter.widget-view+json": {
              "model_id": "f954530e0bab405db5e50802f5f7db69",
              "version_minor": 0,
              "version_major": 2
            },
            "text/plain": [
              "HBox(children=(FloatProgress(value=0.0, max=50.0), HTML(value='')))"
            ]
          },
          "metadata": {
            "tags": []
          }
        },
        {
          "output_type": "stream",
          "text": [
            "\n"
          ],
          "name": "stdout"
        }
      ]
    },
    {
      "cell_type": "code",
      "metadata": {
        "id": "4Jd3BWM_YY8C"
      },
      "source": [
        "  autoencoder.eval()\n",
        "  with torch.no_grad():\n",
        "      for batch in val_loader:\n",
        "        reconstruction, mu, logsigma = autoencoder(batch.to(device))\n",
        "        reconstruction = reconstruction.view(-1, 64, 64, 3)\n",
        "        result = reconstruction.cpu().detach().numpy()\n",
        "        ground_truth = batch.numpy()\n",
        "        break"
      ],
      "execution_count": null,
      "outputs": []
    },
    {
      "cell_type": "code",
      "metadata": {
        "id": "QDXsgUeo94IV"
      },
      "source": [
        "import matplotlib.pyplot as plt\n",
        "\n",
        "plt.figure(figsize=(8, 20))\n",
        "for i, (gt, res) in enumerate(zip(ground_truth[:5], result[:5])):\n",
        "  plt.subplot(5, 2, 2*i+1)\n",
        "  plt.imshow(gt)\n",
        "  plt.subplot(5, 2, 2*i+2)\n",
        "  plt.imshow(res)"
      ],
      "execution_count": null,
      "outputs": []
    },
    {
      "cell_type": "markdown",
      "metadata": {
        "id": "Po-KV8E8YY8F"
      },
      "source": [
        "## Sampling"
      ]
    },
    {
      "cell_type": "code",
      "metadata": {
        "id": "bOhhH-osYY8G"
      },
      "source": [
        "z = np.array([np.random.normal(0, 1, 16) for i in range(10)])\n",
        "output = autoencoder.sample(torch.FloatTensor(z).to(device))"
      ],
      "execution_count": null,
      "outputs": []
    }
  ]
}